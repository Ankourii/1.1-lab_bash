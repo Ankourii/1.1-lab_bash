{
 "cells": [
  {
   "cell_type": "markdown",
   "id": "a698dc7c",
   "metadata": {},
   "source": [
    "* Imprime en consola `Hello World`."
   ]
  },
  {
   "cell_type": "markdown",
   "id": "9135ee41",
   "metadata": {},
   "source": [
    "echo \"Hello World\""
   ]
  },
  {
   "cell_type": "markdown",
   "id": "7d5fe895",
   "metadata": {},
   "source": [
    "* Crea un directorio nuevo llamado `new_dir`."
   ]
  },
  {
   "cell_type": "markdown",
   "id": "96fbd2e6",
   "metadata": {},
   "source": [
    "mkdir new_dir"
   ]
  },
  {
   "cell_type": "markdown",
   "id": "a0c50bb4",
   "metadata": {},
   "source": [
    "* Elimina ese directorio."
   ]
  },
  {
   "cell_type": "markdown",
   "id": "ba7927ed",
   "metadata": {},
   "source": [
    "rm new_dir"
   ]
  },
  {
   "cell_type": "markdown",
   "id": "4255b683",
   "metadata": {},
   "source": [
    "* Copia el archivo `sed.txt` dentro de la carpeta lorem a la carpeta lorem-copy. TIP: Puede ser necesario crear la carpeta lorem-copy primero. "
   ]
  },
  {
   "cell_type": "markdown",
   "id": "9c6bc5c8",
   "metadata": {},
   "source": [
    "mkdir lorem-copy\n",
    "cd lorem-copy\n",
    "cp C:\\Users\\akoun\\1.1-lab_bash\\lorem\\sed.txt"
   ]
  },
  {
   "cell_type": "markdown",
   "id": "dc35ec73",
   "metadata": {},
   "source": [
    "* Muestra el contenido del archivo `sed.txt` dentro de la carpeta lorem. "
   ]
  },
  {
   "cell_type": "markdown",
   "id": "90692891",
   "metadata": {},
   "source": [
    "cd ..\n",
    "cat set.txt"
   ]
  },
  {
   "cell_type": "markdown",
   "id": "acc81655",
   "metadata": {},
   "source": [
    "* Muestra el contenido de los archivos `at.txt` y `lorem.txt` dentro de la carpeta lorem. "
   ]
  },
  {
   "cell_type": "markdown",
   "id": "cef974ba",
   "metadata": {},
   "source": [
    "cat at.txt\n",
    "cat lorem.txt"
   ]
  },
  {
   "cell_type": "markdown",
   "id": "3ced89ee",
   "metadata": {},
   "source": [
    "* Visualiza las primeras 3 líneas del archivo `sed.txt` dentro de la carpeta lorem-copy "
   ]
  },
  {
   "cell_type": "markdown",
   "id": "8cb48106",
   "metadata": {},
   "source": [
    "cd lorem-copy\n",
    "Get-Content -Head 3 sed.txt"
   ]
  },
  {
   "cell_type": "markdown",
   "id": "ae8a8c9f",
   "metadata": {},
   "source": [
    "* Añade `Homo homini lupus.` al final de archivo `sed.txt` dentro de la carpeta lorem-copy. "
   ]
  },
  {
   "cell_type": "markdown",
   "id": "616890dd",
   "metadata": {},
   "source": [
    "echo \"Homo homini lupus.\" >> sed.txt"
   ]
  },
  {
   "cell_type": "markdown",
   "id": "f1e5660d",
   "metadata": {},
   "source": [
    "* Visualiza las últimas 3 líneas del archivo `sed.txt` dentro de la carpeta lorem-copy. Deberías ver ahora `Homo homini lupus.`. "
   ]
  },
  {
   "cell_type": "markdown",
   "id": "ad7dbe1d",
   "metadata": {},
   "source": [
    "Get-Content -Tail 3 sed.txt"
   ]
  },
  {
   "cell_type": "markdown",
   "id": "07e9821c",
   "metadata": {},
   "source": [
    "* Encuentra al usuario activo en el sistema."
   ]
  },
  {
   "cell_type": "markdown",
   "id": "730a9047",
   "metadata": {},
   "source": [
    "whoami"
   ]
  },
  {
   "cell_type": "markdown",
   "id": "229d9da5",
   "metadata": {},
   "source": [
    "* Encuentra dónde estás en tu sistema de ficheros."
   ]
  },
  {
   "cell_type": "markdown",
   "id": "efb77deb",
   "metadata": {},
   "source": [
    "pwd"
   ]
  },
  {
   "cell_type": "markdown",
   "id": "5a4a9915",
   "metadata": {},
   "source": [
    "* Lista los archivos que terminan por `.txt` en la carpeta lorem."
   ]
  },
  {
   "cell_type": "markdown",
   "id": "484045cb",
   "metadata": {},
   "source": [
    "cd ..\n",
    "ls *.txt"
   ]
  },
  {
   "cell_type": "markdown",
   "id": "c4dffee8",
   "metadata": {},
   "source": [
    "* Cuenta el número de líneas que tiene el archivo `sed.txt` dentro de la carpeta lorem. "
   ]
  },
  {
   "cell_type": "markdown",
   "id": "8420f954",
   "metadata": {},
   "source": [
    "cd lorem\n",
    "(Get-Content \"sed.txt\").Length"
   ]
  }
 ],
 "metadata": {
  "kernelspec": {
   "display_name": "Python 3 (ipykernel)",
   "language": "python",
   "name": "python3"
  },
  "language_info": {
   "codemirror_mode": {
    "name": "ipython",
    "version": 3
   },
   "file_extension": ".py",
   "mimetype": "text/x-python",
   "name": "python",
   "nbconvert_exporter": "python",
   "pygments_lexer": "ipython3",
   "version": "3.11.4"
  }
 },
 "nbformat": 4,
 "nbformat_minor": 5
}

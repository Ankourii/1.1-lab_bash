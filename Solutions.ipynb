{
 "cells": [
  {
   "cell_type": "markdown",
   "id": "28cc1b92",
   "metadata": {},
   "source": [
    "* Imprime en consola `Hello World`."
   ]
  },
  {
   "cell_type": "markdown",
   "id": "c3d1c722",
   "metadata": {},
   "source": [
    "echo \"Hello World\""
   ]
  },
  {
   "cell_type": "markdown",
   "id": "348a615b",
   "metadata": {},
   "source": [
    "* Crea un directorio nuevo llamado `new_dir`."
   ]
  },
  {
   "cell_type": "markdown",
   "id": "0821e728",
   "metadata": {},
   "source": [
    "mkdir new_dir"
   ]
  },
  {
   "cell_type": "markdown",
   "id": "dfe9aae1",
   "metadata": {},
   "source": [
    "* Elimina ese directorio."
   ]
  },
  {
   "cell_type": "markdown",
   "id": "f3fb5856",
   "metadata": {},
   "source": [
    "rm new_dir"
   ]
  },
  {
   "cell_type": "markdown",
   "id": "ff11c209",
   "metadata": {},
   "source": [
    "* Copia el archivo `sed.txt` dentro de la carpeta lorem a la carpeta lorem-copy. TIP: Puede ser necesario crear la carpeta lorem-copy primero. "
   ]
  },
  {
   "cell_type": "markdown",
   "id": "a8ffb726",
   "metadata": {},
   "source": [
    "mkdir lorem-copy\n",
    "cd lorem-copy\n",
    "cp C:\\Users\\akoun\\1.1-lab_bash\\lorem\\sed.txt"
   ]
  },
  {
   "cell_type": "markdown",
   "id": "f76a637e",
   "metadata": {},
   "source": [
    "* Muestra el contenido del archivo `sed.txt` dentro de la carpeta lorem. "
   ]
  },
  {
   "cell_type": "markdown",
   "id": "99d1c957",
   "metadata": {},
   "source": [
    "cd ..\n",
    "cat set.txt"
   ]
  },
  {
   "cell_type": "markdown",
   "id": "b6aac808",
   "metadata": {},
   "source": [
    "* Muestra el contenido de los archivos `at.txt` y `lorem.txt` dentro de la carpeta lorem. "
   ]
  },
  {
   "cell_type": "markdown",
   "id": "85686153",
   "metadata": {},
   "source": [
    "cat at.txt\n",
    "cat lorem.txt"
   ]
  },
  {
   "cell_type": "markdown",
   "id": "457fa915",
   "metadata": {},
   "source": [
    "* Visualiza las primeras 3 líneas del archivo `sed.txt` dentro de la carpeta lorem-copy "
   ]
  },
  {
   "cell_type": "markdown",
   "id": "2b472775",
   "metadata": {},
   "source": [
    "cd lorem-copy\n",
    "Get-Content -Head 3 sed.txt"
   ]
  },
  {
   "cell_type": "markdown",
   "id": "94c2ea31",
   "metadata": {},
   "source": [
    "* Añade `Homo homini lupus.` al final de archivo `sed.txt` dentro de la carpeta lorem-copy. "
   ]
  },
  {
   "cell_type": "markdown",
   "id": "ecde1e26",
   "metadata": {},
   "source": [
    "echo \"Homo homini lupus.\" >> sed.txt"
   ]
  },
  {
   "cell_type": "markdown",
   "id": "a5208ddc",
   "metadata": {},
   "source": [
    "* Visualiza las últimas 3 líneas del archivo `sed.txt` dentro de la carpeta lorem-copy. Deberías ver ahora `Homo homini lupus.`. "
   ]
  },
  {
   "cell_type": "markdown",
   "id": "d2f850eb",
   "metadata": {},
   "source": [
    "Get-Content -Tail 3 sed.txt"
   ]
  },
  {
   "cell_type": "markdown",
   "id": "69af85d4",
   "metadata": {},
   "source": [
    "* Encuentra al usuario activo en el sistema."
   ]
  },
  {
   "cell_type": "markdown",
   "id": "7fb6104f",
   "metadata": {},
   "source": [
    "whoami"
   ]
  },
  {
   "cell_type": "markdown",
   "id": "003cfb2e",
   "metadata": {},
   "source": [
    "* Encuentra dónde estás en tu sistema de ficheros."
   ]
  },
  {
   "cell_type": "markdown",
   "id": "f5e7a636",
   "metadata": {},
   "source": [
    "pwd"
   ]
  },
  {
   "cell_type": "markdown",
   "id": "2d1cfd57",
   "metadata": {},
   "source": [
    "* Lista los archivos que terminan por `.txt` en la carpeta lorem."
   ]
  },
  {
   "cell_type": "markdown",
   "id": "f96ed586",
   "metadata": {},
   "source": [
    "cd ..\n",
    "ls *.txt"
   ]
  },
  {
   "cell_type": "markdown",
   "id": "e77419c0",
   "metadata": {},
   "source": [
    "* Cuenta el número de líneas que tiene el archivo `sed.txt` dentro de la carpeta lorem. "
   ]
  },
  {
   "cell_type": "markdown",
   "id": "1d5eca6c",
   "metadata": {},
   "source": []
  }
 ],
 "metadata": {
  "kernelspec": {
   "display_name": "Python 3 (ipykernel)",
   "language": "python",
   "name": "python3"
  },
  "language_info": {
   "codemirror_mode": {
    "name": "ipython",
    "version": 3
   },
   "file_extension": ".py",
   "mimetype": "text/x-python",
   "name": "python",
   "nbconvert_exporter": "python",
   "pygments_lexer": "ipython3",
   "version": "3.11.4"
  }
 },
 "nbformat": 4,
 "nbformat_minor": 5
}

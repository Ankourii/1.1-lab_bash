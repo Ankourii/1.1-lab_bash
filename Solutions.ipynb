{
 "cells": [
  {
   "cell_type": "markdown",
   "id": "98148afc",
   "metadata": {},
   "source": [
    "* Imprime en consola `Hello World`."
   ]
  },
  {
   "cell_type": "markdown",
   "id": "ee7fd4ce",
   "metadata": {},
   "source": [
    "echo \"Hello World\""
   ]
  },
  {
   "cell_type": "markdown",
   "id": "48034403",
   "metadata": {},
   "source": [
    "* Crea un directorio nuevo llamado `new_dir`."
   ]
  },
  {
   "cell_type": "markdown",
   "id": "9be9b328",
   "metadata": {},
   "source": [
    "mkdir new_dir"
   ]
  },
  {
   "cell_type": "markdown",
   "id": "bd2faa05",
   "metadata": {},
   "source": [
    "* Elimina ese directorio."
   ]
  },
  {
   "cell_type": "markdown",
   "id": "a3cf443f",
   "metadata": {},
   "source": [
    "rm new_dir"
   ]
  },
  {
   "cell_type": "markdown",
   "id": "ed341848",
   "metadata": {},
   "source": [
    "* Copia el archivo `sed.txt` dentro de la carpeta lorem a la carpeta lorem-copy. TIP: Puede ser necesario crear la carpeta lorem-copy primero. "
   ]
  },
  {
   "cell_type": "markdown",
   "id": "f3f0a5ae",
   "metadata": {},
   "source": [
    "mkdir lorem-copy\n",
    "cd lorem-copy\n",
    "cp C:\\Users\\akoun\\1.1-lab_bash\\lorem\\sed.txt"
   ]
  },
  {
   "cell_type": "markdown",
   "id": "f21f917e",
   "metadata": {},
   "source": [
    "* Muestra el contenido del archivo `sed.txt` dentro de la carpeta lorem. "
   ]
  },
  {
   "cell_type": "markdown",
   "id": "6ed3817d",
   "metadata": {},
   "source": [
    "cd ..\n",
    "cat set.txt"
   ]
  },
  {
   "cell_type": "markdown",
   "id": "82438ee3",
   "metadata": {},
   "source": [
    "* Muestra el contenido de los archivos `at.txt` y `lorem.txt` dentro de la carpeta lorem. "
   ]
  },
  {
   "cell_type": "markdown",
   "id": "a3f544d9",
   "metadata": {},
   "source": [
    "cat at.txt\n",
    "cat lorem.txt"
   ]
  },
  {
   "cell_type": "markdown",
   "id": "3e075e9f",
   "metadata": {},
   "source": [
    "* Visualiza las primeras 3 líneas del archivo `sed.txt` dentro de la carpeta lorem-copy "
   ]
  },
  {
   "cell_type": "markdown",
   "id": "db355b55",
   "metadata": {},
   "source": [
    "cd lorem-copy\n",
    "Get-Content -Head 3 sed.txt"
   ]
  },
  {
   "cell_type": "markdown",
   "id": "492643a2",
   "metadata": {},
   "source": [
    "* Añade `Homo homini lupus.` al final de archivo `sed.txt` dentro de la carpeta lorem-copy. "
   ]
  },
  {
   "cell_type": "markdown",
   "id": "c8e60544",
   "metadata": {},
   "source": [
    "echo \"Homo homini lupus.\" >> sed.txt"
   ]
  },
  {
   "cell_type": "markdown",
   "id": "0687b99e",
   "metadata": {},
   "source": [
    "* Visualiza las últimas 3 líneas del archivo `sed.txt` dentro de la carpeta lorem-copy. Deberías ver ahora `Homo homini lupus.`. "
   ]
  },
  {
   "cell_type": "markdown",
   "id": "147c37aa",
   "metadata": {},
   "source": [
    "Get-Content -Tail 3 sed.txt"
   ]
  },
  {
   "cell_type": "markdown",
   "id": "ed8b2830",
   "metadata": {},
   "source": [
    "* Encuentra al usuario activo en el sistema."
   ]
  },
  {
   "cell_type": "markdown",
   "id": "09d8a155",
   "metadata": {},
   "source": [
    "whoami"
   ]
  },
  {
   "cell_type": "markdown",
   "id": "2a99cbde",
   "metadata": {},
   "source": [
    "* Encuentra dónde estás en tu sistema de ficheros."
   ]
  },
  {
   "cell_type": "markdown",
   "id": "8c3e9c71",
   "metadata": {},
   "source": [
    "pwd"
   ]
  },
  {
   "cell_type": "markdown",
   "id": "9e74556f",
   "metadata": {},
   "source": [
    "* Lista los archivos que terminan por `.txt` en la carpeta lorem."
   ]
  },
  {
   "cell_type": "markdown",
   "id": "5b461435",
   "metadata": {},
   "source": [
    "cd ..\n",
    "ls *.txt"
   ]
  },
  {
   "cell_type": "markdown",
   "id": "c399ebf8",
   "metadata": {},
   "source": [
    "* Cuenta el número de líneas que tiene el archivo `sed.txt` dentro de la carpeta lorem. "
   ]
  },
  {
   "cell_type": "markdown",
   "id": "b437aa21",
   "metadata": {},
   "source": [
    "cd lorem\n",
    "(Get-Content \"sed.txt\").Length"
   ]
  },
  {
   "cell_type": "markdown",
   "id": "041012ff",
   "metadata": {},
   "source": [
    "* Cuenta el número de **archivos** que empiezan por `lorem` que están en este directorio y en directorios internos."
   ]
  },
  {
   "cell_type": "markdown",
   "id": "383c5b7e",
   "metadata": {},
   "source": [
    "cd ..\n",
    "(ls -filter \"lorem*\" -Recurse).count"
   ]
  },
  {
   "cell_type": "markdown",
   "id": "4bcdc801",
   "metadata": {},
   "source": [
    "* Cuenta el número de apariciones del string `et` en `at.txt` dentro de la carpeta lorem. "
   ]
  },
  {
   "cell_type": "markdown",
   "id": "f2fd57a0",
   "metadata": {},
   "source": [
    "(Get-Content at.txt | Where-Object{$_.Contains(\"et\")}).Count"
   ]
  },
  {
   "cell_type": "markdown",
   "id": "5ba70015",
   "metadata": {},
   "source": [
    "## Ficheros bash\n",
    "\n",
    "Cualquier comando o comandos de bash se pueden almacenar en un fichero y ejecutar cuando queramos. \n",
    "Obviamente puedes utilizar tu editor preferido. Creamos el fichero: \n",
    "```\n",
    "$ touch list_files.sh\n",
    "```\n",
    "\n",
    "E incluimos el contenido que queramos. En este caso listar ficheros:\n",
    "```bash\n",
    "#!/bin/bash\n",
    "ls\n",
    "```\n",
    "\n",
    "Ejecutamos el script:\n",
    "```\n",
    "$ bash list_files.sh\n",
    "```\n",
    "\n",
    "Y veremos por consola el siguiente output. \n",
    "```console\n",
    "README.md lorem solutions.ipynb"
   ]
  },
  {
   "cell_type": "markdown",
   "id": "11943b07",
   "metadata": {},
   "source": [
    "ni list_files.sh\n",
    "echo \"bash\" >> list_files.sh\n",
    "echo \"#!/bin/bash\" >> list_files.sh\n",
    "echo \"ls\" >> list_files.sh\n",
    ".list_files.sh\n"
   ]
  }
 ],
 "metadata": {
  "kernelspec": {
   "display_name": "Python 3 (ipykernel)",
   "language": "python",
   "name": "python3"
  },
  "language_info": {
   "codemirror_mode": {
    "name": "ipython",
    "version": 3
   },
   "file_extension": ".py",
   "mimetype": "text/x-python",
   "name": "python",
   "nbconvert_exporter": "python",
   "pygments_lexer": "ipython3",
   "version": "3.11.4"
  }
 },
 "nbformat": 4,
 "nbformat_minor": 5
}
